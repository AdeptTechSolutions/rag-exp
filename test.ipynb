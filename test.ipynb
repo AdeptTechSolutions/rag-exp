{
 "cells": [
  {
   "cell_type": "code",
   "execution_count": 2,
   "metadata": {},
   "outputs": [],
   "source": [
    "from core import DocumentIngester\n",
    "\n",
    "ingester = DocumentIngester()\n",
    "ingester.ingest_documents(\"data_mini/\")"
   ]
  },
  {
   "cell_type": "code",
   "execution_count": 1,
   "metadata": {},
   "outputs": [
    {
     "name": "stderr",
     "output_type": "stream",
     "text": [
      "c:\\Users\\Zonularity\\Downloads\\adept_serv\\rag\\rag-exp\\.venv\\Lib\\site-packages\\langchain_google_genai\\chat_models.py:353: UserWarning: Convert_system_message_to_human will be deprecated!\n",
      "  warnings.warn(\"Convert_system_message_to_human will be deprecated!\")\n"
     ]
    },
    {
     "name": "stdout",
     "output_type": "stream",
     "text": [
      "The provided context does not mention when the Caliph surrendered to Hulago.\n",
      "\n",
      "Source: 10_answer_to_an_enemy_of_islam.pdf, Page: 14, Score: 0.7902516\n"
     ]
    }
   ],
   "source": [
    "from core import RAGModel\n",
    "\n",
    "model = RAGModel(temperature=0.5, top_k=6)\n",
    "answer, source = model.get_answer(\"When did the Caliph surrender to Hulago?\")\n",
    "\n",
    "print(answer)\n",
    "print(f\"\\nSource: {source['source']}, Page: {source['page']}, Score: {source['score']}\")"
   ]
  }
 ],
 "metadata": {
  "kernelspec": {
   "display_name": ".venv",
   "language": "python",
   "name": "python3"
  },
  "language_info": {
   "codemirror_mode": {
    "name": "ipython",
    "version": 3
   },
   "file_extension": ".py",
   "mimetype": "text/x-python",
   "name": "python",
   "nbconvert_exporter": "python",
   "pygments_lexer": "ipython3",
   "version": "3.11.10"
  }
 },
 "nbformat": 4,
 "nbformat_minor": 2
}
